{
 "cells": [
  {
   "cell_type": "markdown",
   "metadata": {},
   "source": [
    "Dans ce projet, ***trois modèles*** de classification supervisée ont été développés pour comparer leurs performances sur un ensemble de données donné. Le premier modèle est le ***SVC*** (Support Vector Classifier), qui utilise des hyperplans pour séparer les classes dans un espace de caractéristiques à haute dimension, offrant une grande efficacité pour des problèmes de classification non linéaire. Le second modèle est le ***DecisionTreeClassifier***, un algorithme d'apprentissage par arbre de décision qui segmente l'espace de caractéristiques en partitions homogènes, basé sur des critères comme l'entropie ou la mesure Gini, permettant une interprétabilité intuitive. Le troisième modèle est la ***LogisticRegression***, paramétrée avec un maximum d'itérations fixé à 480, pour assurer une convergence adéquate dans des cas où les données sont nombreuses ou complexes. Ce modèle est particulièrement utile pour des problèmes de classification binaire, transformant la sortie en probabilités grâce à une fonction logistique. Chaque modèle a été configuré pour tester son efficacité et son adaptabilité aux données, dans le but d'identifier le classifieur le plus performant pour le problème en question. \n",
    "Source des données: https://www.kaggle.com/datasets/aljarah/xAPI-Edu-Data"
   ]
  },
  {
   "cell_type": "markdown",
   "metadata": {
    "id": "-oB6SDZr8sFE"
   },
   "source": [
    "# 1- importation des bibliothèques nécessaires"
   ]
  },
  {
   "cell_type": "code",
   "execution_count": 1,
   "metadata": {
    "id": "EsYhTik99JxU"
   },
   "outputs": [],
   "source": [
    "import pandas as pd\r\n",
    "import numpy as np\r\n",
    "from sklearn.preprocessing import MinMaxScaler\r\n",
    "from sklearn.svm import SVC\r\n",
    "from sklearn.tree import DecisionTreeClassifier\r\n",
    "from sklearn.linear_model import LogisticRegression\r\n",
    "from sklearn.model_selection import KFold\r\n",
    "from sklearn.metrics import confusion_matrix\r\n",
    "from sklearn.metrics import accuracy_score \r\n",
    "from sklearn.metrics import f1_score\r\n",
    "from sklearn.model_selection import GridSearchCV\r\n",
    "from sklearn.model_selection import train_test_split\r\n",
    "from sklearn.base import clone"
   ]
  },
  {
   "cell_type": "markdown",
   "metadata": {
    "id": "27sN1GWk9UMp"
   },
   "source": [
    "# 2- Collecte et nettoyage des données"
   ]
  },
  {
   "cell_type": "markdown",
   "metadata": {},
   "source": [
    "# Source des données: https://www.kaggle.com/datasets/aljarah/xAPI-Edu-Data"
   ]
  },
  {
   "cell_type": "markdown",
   "metadata": {},
   "source": [
    "Le jeu de données xAPI-Edu-Data est un ensemble de données éducatives collectées à partir du système de gestion de l'apprentissage (LMS) Kalboard 360. Ce LMS est une plateforme multi-agents qui facilite l'apprentissage en ligne.\n",
    "\n",
    "Le jeu de données contient des informations sur les performances académiques des étudiants, incluant diverses caractéristiques telles que :\n",
    "\n",
    "1. Genre\n",
    "2. Niveau d'éducation des parents\n",
    "3. Type d'école fréquentée\n",
    "4. Heures d'étude hebdomadaires\n",
    "5. Notes obtenues\n",
    "6. Participation aux activités parascolaires\n",
    "7. Absences\n",
    "Ces variables permettent d'analyser et de prédire les performances académiques des étudiants, offrant ainsi des perspectives pour améliorer les méthodes d'enseignement et identifier les facteurs influençant la réussite scolaire."
   ]
  },
  {
   "cell_type": "code",
   "execution_count": 2,
   "metadata": {
    "colab": {
     "base_uri": "https://localhost:8080/",
     "height": 100
    },
    "id": "4KgthlHc9Sd8",
    "outputId": "c708b610-451a-439a-c2df-f6620d198368"
   },
   "outputs": [
    {
     "data": {
      "text/html": [
       "<div>\n",
       "<style scoped>\n",
       "    .dataframe tbody tr th:only-of-type {\n",
       "        vertical-align: middle;\n",
       "    }\n",
       "\n",
       "    .dataframe tbody tr th {\n",
       "        vertical-align: top;\n",
       "    }\n",
       "\n",
       "    .dataframe thead th {\n",
       "        text-align: right;\n",
       "    }\n",
       "</style>\n",
       "<table border=\"1\" class=\"dataframe\">\n",
       "  <thead>\n",
       "    <tr style=\"text-align: right;\">\n",
       "      <th></th>\n",
       "      <th>gender</th>\n",
       "      <th>NationalITy</th>\n",
       "      <th>PlaceofBirth</th>\n",
       "      <th>StageID</th>\n",
       "      <th>GradeID</th>\n",
       "      <th>SectionID</th>\n",
       "      <th>Topic</th>\n",
       "      <th>Semester</th>\n",
       "      <th>Relation</th>\n",
       "      <th>raisedhands</th>\n",
       "      <th>VisITedResources</th>\n",
       "      <th>AnnouncementsView</th>\n",
       "      <th>Discussion</th>\n",
       "      <th>ParentAnsweringSurvey</th>\n",
       "      <th>ParentschoolSatisfaction</th>\n",
       "      <th>StudentAbsenceDays</th>\n",
       "      <th>Class</th>\n",
       "    </tr>\n",
       "  </thead>\n",
       "  <tbody>\n",
       "    <tr>\n",
       "      <th>128</th>\n",
       "      <td>M</td>\n",
       "      <td>KW</td>\n",
       "      <td>KuwaIT</td>\n",
       "      <td>lowerlevel</td>\n",
       "      <td>G-02</td>\n",
       "      <td>C</td>\n",
       "      <td>IT</td>\n",
       "      <td>F</td>\n",
       "      <td>Father</td>\n",
       "      <td>12</td>\n",
       "      <td>10</td>\n",
       "      <td>20</td>\n",
       "      <td>16</td>\n",
       "      <td>No</td>\n",
       "      <td>Bad</td>\n",
       "      <td>Under-7</td>\n",
       "      <td>L</td>\n",
       "    </tr>\n",
       "  </tbody>\n",
       "</table>\n",
       "</div>"
      ],
      "text/plain": [
       "    gender NationalITy PlaceofBirth     StageID GradeID SectionID Topic  \\\n",
       "128      M          KW       KuwaIT  lowerlevel    G-02         C    IT   \n",
       "\n",
       "    Semester Relation  raisedhands  VisITedResources  AnnouncementsView  \\\n",
       "128        F   Father           12                10                 20   \n",
       "\n",
       "     Discussion ParentAnsweringSurvey ParentschoolSatisfaction  \\\n",
       "128          16                    No                      Bad   \n",
       "\n",
       "    StudentAbsenceDays Class  \n",
       "128            Under-7     L  "
      ]
     },
     "execution_count": 2,
     "metadata": {},
     "output_type": "execute_result"
    }
   ],
   "source": [
    "df = pd.read_csv(\"edu-data.csv\")\r\n",
    "df.sample(1)"
   ]
  },
  {
   "cell_type": "markdown",
   "metadata": {},
   "source": [
    "Dans le contexte de la base de données xAPI-Edu-Data, xAPI (Experience API) joue un rôle crucial en tant que standard d'interopérabilité pour capturer, stocker et analyser les données liées aux activités d'apprentissage. Voici comment xAPI contribue à cette base de données :\n",
    "\n",
    "1. Collecte de Données : xAPI permet de recueillir des données sur les interactions des apprenants avec les plateformes d'apprentissage, les ressources éducatives, et d'autres activités d'apprentissage en ligne et hors ligne.\n",
    "\n",
    "2. Suivi des Performances : Grâce à xAPI, il est possible de suivre les progrès des étudiants de manière détaillée, en enregistrant des événements tels que la complétion de cours, les tests réussis ou échoués, et l'engagement dans les activités éducatives.\n",
    "\n",
    "3. Analyse et Prédiction : Les données collectées via xAPI sont utilisées pour analyser les performances des étudiants, identifier les modèles de réussite ou d'échec, et prédire les résultats futurs. Cela aide les éducateurs à adapter les stratégies d'enseignement en fonction des besoins spécifiques des apprenants.\n",
    "\n",
    "4. Interopérabilité : xAPI permet l'intégration de données provenant de différentes sources, ce qui enrichit la base de données avec des informations diverses, augmentant ainsi la précision et l'efficacité des analyses."
   ]
  },
  {
   "cell_type": "code",
   "execution_count": 3,
   "metadata": {
    "colab": {
     "base_uri": "https://localhost:8080/"
    },
    "id": "8YcmAZdC-4tf",
    "outputId": "fc3520d1-9711-4510-855f-6520f082bd85"
   },
   "outputs": [
    {
     "name": "stdout",
     "output_type": "stream",
     "text": [
      "<class 'pandas.core.frame.DataFrame'>\n",
      "RangeIndex: 480 entries, 0 to 479\n",
      "Data columns (total 17 columns):\n",
      " #   Column                    Non-Null Count  Dtype \n",
      "---  ------                    --------------  ----- \n",
      " 0   gender                    480 non-null    object\n",
      " 1   NationalITy               480 non-null    object\n",
      " 2   PlaceofBirth              480 non-null    object\n",
      " 3   StageID                   480 non-null    object\n",
      " 4   GradeID                   480 non-null    object\n",
      " 5   SectionID                 480 non-null    object\n",
      " 6   Topic                     480 non-null    object\n",
      " 7   Semester                  480 non-null    object\n",
      " 8   Relation                  480 non-null    object\n",
      " 9   raisedhands               480 non-null    int64 \n",
      " 10  VisITedResources          480 non-null    int64 \n",
      " 11  AnnouncementsView         480 non-null    int64 \n",
      " 12  Discussion                480 non-null    int64 \n",
      " 13  ParentAnsweringSurvey     480 non-null    object\n",
      " 14  ParentschoolSatisfaction  480 non-null    object\n",
      " 15  StudentAbsenceDays        480 non-null    object\n",
      " 16  Class                     480 non-null    object\n",
      "dtypes: int64(4), object(13)\n",
      "memory usage: 63.9+ KB\n"
     ]
    }
   ],
   "source": [
    "df.info()"
   ]
  },
  {
   "cell_type": "markdown",
   "metadata": {
    "id": "TnG9lKkqrrX9"
   },
   "source": [
    "#3- Preprocessing"
   ]
  },
  {
   "cell_type": "code",
   "execution_count": 4,
   "metadata": {
    "id": "KUEGx5ttuUcl"
   },
   "outputs": [],
   "source": [
    "numeric_attr = [\"raisedhands\", \"VisITedResources\", \"AnnouncementsView\", \"Discussion\"]\r\n",
    "scaler = MinMaxScaler()\r\n",
    "df[numeric_attr] = scaler.fit_transform(df[numeric_attr])"
   ]
  },
  {
   "cell_type": "markdown",
   "metadata": {
    "id": "J4YQg4SMpguf"
   },
   "source": [
    "## Separation des features and target"
   ]
  },
  {
   "cell_type": "code",
   "execution_count": 5,
   "metadata": {
    "id": "WhLj8BTVRiYj"
   },
   "outputs": [],
   "source": [
    "fetures = df.loc[:,:\"StudentAbsenceDays\"]\r\n",
    "target = df.loc[:,\"Class\"]"
   ]
  },
  {
   "cell_type": "markdown",
   "metadata": {
    "id": "1TtPU23xpvcp"
   },
   "source": [
    "## Remplacement des colonnes catégorielles par des nombres"
   ]
  },
  {
   "cell_type": "code",
   "execution_count": 6,
   "metadata": {
    "id": "wjr6f7wdXQM_"
   },
   "outputs": [],
   "source": [
    "replace_gender = {'gender': {'F': 1, 'M': 2}}\r\n",
    "replace_nat = {'NationalITy': {'KW': 1, 'lebanon': 2, 'Egypt': 3, 'SaudiArabia': 4,\r\n",
    "                               'USA':5,'Jordan': 6, 'venzuela': 7, 'Iran': 8 , 'Tunis': 9 ,\r\n",
    "                               'Morocco': 10,'Syria': 11,'Palestine': 12,'Iraq': 13,'Lybia': 14}}\r\n",
    "\r\n",
    "replace_place = {'PlaceofBirth': {'KuwaIT': 1, 'lebanon': 2, 'Egypt': 3, 'SaudiArabia': 4\r\n",
    "                                  , 'USA':5,'Jordan': 6, 'venzuela': 7, 'Iran': 8 , 'Tunis': 9 ,\r\n",
    "                                  'Morocco': 10,'Syria': 11,'Iraq': 12,'Palestine': 13,'Lybia': 14}}\r\n",
    "replace_stage = {'StageID': {'lowerlevel': 1, 'MiddleSchool': 2, 'HighSchool': 3}}\r\n",
    "replace_grade = {'GradeID': {'G-02':1,'G-04':2, 'G-05':3,'G-06':4,'G-07':5,'G-08':6,'G-09':7,'G-10':8,'G-11':9,'G-12':10}}\r\n",
    "replace_sec = {'SectionID': {'A': 1, 'B': 2, 'C': 3}}\r\n",
    "replace_topic = {'Topic': {'Arabic': 1, 'Biology': 2,'Chemistry': 3,\r\n",
    "                           'English': 4, 'French':5,'Geology': 6,\r\n",
    "                           'History': 7, 'IT': 8 , 'Math': 9 ,\r\n",
    "                           'Quran': 10,'Science': 11,'Spanish': 12}}\r\n",
    "replace_sems = {'Semester': {'F': 1, 'S': 2}}\r\n",
    "replace_rel = {'Relation': {'Father': 1, 'Mum': 2}}\r\n",
    "replace_pas = {'ParentAnsweringSurvey': {'Yes': 1, 'No': 2}}\r\n",
    "replace_pss = {'ParentschoolSatisfaction': {'Bad': 1, 'Good': 2}}\r\n",
    "replace_sad = {'StudentAbsenceDays': {'Above-7': 1, 'Under-7': 2}}"
   ]
  },
  {
   "cell_type": "code",
   "execution_count": 7,
   "metadata": {
    "id": "AYeT5xn4Zd3J"
   },
   "outputs": [
    {
     "name": "stderr",
     "output_type": "stream",
     "text": [
      "C:\\Users\\user\\AppData\\Local\\Temp\\ipykernel_4416\\2137061511.py:1: FutureWarning: Downcasting behavior in `replace` is deprecated and will be removed in a future version. To retain the old behavior, explicitly call `result.infer_objects(copy=False)`. To opt-in to the future behavior, set `pd.set_option('future.no_silent_downcasting', True)`\n",
      "  fetures.replace(replace_gender,inplace=True)\n",
      "C:\\Users\\user\\AppData\\Local\\Temp\\ipykernel_4416\\2137061511.py:2: FutureWarning: Downcasting behavior in `replace` is deprecated and will be removed in a future version. To retain the old behavior, explicitly call `result.infer_objects(copy=False)`. To opt-in to the future behavior, set `pd.set_option('future.no_silent_downcasting', True)`\n",
      "  fetures.replace(replace_nat,inplace=True)\n",
      "C:\\Users\\user\\AppData\\Local\\Temp\\ipykernel_4416\\2137061511.py:3: FutureWarning: Downcasting behavior in `replace` is deprecated and will be removed in a future version. To retain the old behavior, explicitly call `result.infer_objects(copy=False)`. To opt-in to the future behavior, set `pd.set_option('future.no_silent_downcasting', True)`\n",
      "  fetures.replace(replace_place,inplace=True)\n",
      "C:\\Users\\user\\AppData\\Local\\Temp\\ipykernel_4416\\2137061511.py:4: FutureWarning: Downcasting behavior in `replace` is deprecated and will be removed in a future version. To retain the old behavior, explicitly call `result.infer_objects(copy=False)`. To opt-in to the future behavior, set `pd.set_option('future.no_silent_downcasting', True)`\n",
      "  fetures.replace(replace_stage,inplace=True)\n",
      "C:\\Users\\user\\AppData\\Local\\Temp\\ipykernel_4416\\2137061511.py:5: FutureWarning: Downcasting behavior in `replace` is deprecated and will be removed in a future version. To retain the old behavior, explicitly call `result.infer_objects(copy=False)`. To opt-in to the future behavior, set `pd.set_option('future.no_silent_downcasting', True)`\n",
      "  fetures.replace(replace_grade,inplace=True)\n",
      "C:\\Users\\user\\AppData\\Local\\Temp\\ipykernel_4416\\2137061511.py:6: FutureWarning: Downcasting behavior in `replace` is deprecated and will be removed in a future version. To retain the old behavior, explicitly call `result.infer_objects(copy=False)`. To opt-in to the future behavior, set `pd.set_option('future.no_silent_downcasting', True)`\n",
      "  fetures.replace(replace_sec,inplace=True)\n",
      "C:\\Users\\user\\AppData\\Local\\Temp\\ipykernel_4416\\2137061511.py:7: FutureWarning: Downcasting behavior in `replace` is deprecated and will be removed in a future version. To retain the old behavior, explicitly call `result.infer_objects(copy=False)`. To opt-in to the future behavior, set `pd.set_option('future.no_silent_downcasting', True)`\n",
      "  fetures.replace(replace_topic,inplace=True)\n",
      "C:\\Users\\user\\AppData\\Local\\Temp\\ipykernel_4416\\2137061511.py:8: FutureWarning: Downcasting behavior in `replace` is deprecated and will be removed in a future version. To retain the old behavior, explicitly call `result.infer_objects(copy=False)`. To opt-in to the future behavior, set `pd.set_option('future.no_silent_downcasting', True)`\n",
      "  fetures.replace(replace_sems,inplace=True)\n",
      "C:\\Users\\user\\AppData\\Local\\Temp\\ipykernel_4416\\2137061511.py:9: FutureWarning: Downcasting behavior in `replace` is deprecated and will be removed in a future version. To retain the old behavior, explicitly call `result.infer_objects(copy=False)`. To opt-in to the future behavior, set `pd.set_option('future.no_silent_downcasting', True)`\n",
      "  fetures.replace(replace_rel,inplace=True)\n",
      "C:\\Users\\user\\AppData\\Local\\Temp\\ipykernel_4416\\2137061511.py:10: FutureWarning: Downcasting behavior in `replace` is deprecated and will be removed in a future version. To retain the old behavior, explicitly call `result.infer_objects(copy=False)`. To opt-in to the future behavior, set `pd.set_option('future.no_silent_downcasting', True)`\n",
      "  fetures.replace(replace_pas,inplace=True)\n",
      "C:\\Users\\user\\AppData\\Local\\Temp\\ipykernel_4416\\2137061511.py:11: FutureWarning: Downcasting behavior in `replace` is deprecated and will be removed in a future version. To retain the old behavior, explicitly call `result.infer_objects(copy=False)`. To opt-in to the future behavior, set `pd.set_option('future.no_silent_downcasting', True)`\n",
      "  fetures.replace(replace_pss,inplace=True)\n",
      "C:\\Users\\user\\AppData\\Local\\Temp\\ipykernel_4416\\2137061511.py:12: FutureWarning: Downcasting behavior in `replace` is deprecated and will be removed in a future version. To retain the old behavior, explicitly call `result.infer_objects(copy=False)`. To opt-in to the future behavior, set `pd.set_option('future.no_silent_downcasting', True)`\n",
      "  fetures.replace(replace_sad,inplace=True)\n"
     ]
    }
   ],
   "source": [
    "fetures.replace(replace_gender,inplace=True)\r\n",
    "fetures.replace(replace_nat,inplace=True)\r\n",
    "fetures.replace(replace_place,inplace=True)\r\n",
    "fetures.replace(replace_stage,inplace=True)\r\n",
    "fetures.replace(replace_grade,inplace=True)\r\n",
    "fetures.replace(replace_sec,inplace=True)\r\n",
    "fetures.replace(replace_topic,inplace=True)\r\n",
    "fetures.replace(replace_sems,inplace=True)\r\n",
    "fetures.replace(replace_rel,inplace=True)\r\n",
    "fetures.replace(replace_pas,inplace=True)\r\n",
    "fetures.replace(replace_pss,inplace=True)\r\n",
    "fetures.replace(replace_sad,inplace=True)"
   ]
  },
  {
   "cell_type": "code",
   "execution_count": 8,
   "metadata": {
    "colab": {
     "base_uri": "https://localhost:8080/",
     "height": 100
    },
    "id": "I8MCUvtzZ8Wh",
    "outputId": "d571454e-c6e9-4647-f705-3ddb82b65ab2"
   },
   "outputs": [
    {
     "data": {
      "text/html": [
       "<div>\n",
       "<style scoped>\n",
       "    .dataframe tbody tr th:only-of-type {\n",
       "        vertical-align: middle;\n",
       "    }\n",
       "\n",
       "    .dataframe tbody tr th {\n",
       "        vertical-align: top;\n",
       "    }\n",
       "\n",
       "    .dataframe thead th {\n",
       "        text-align: right;\n",
       "    }\n",
       "</style>\n",
       "<table border=\"1\" class=\"dataframe\">\n",
       "  <thead>\n",
       "    <tr style=\"text-align: right;\">\n",
       "      <th></th>\n",
       "      <th>gender</th>\n",
       "      <th>NationalITy</th>\n",
       "      <th>PlaceofBirth</th>\n",
       "      <th>StageID</th>\n",
       "      <th>GradeID</th>\n",
       "      <th>SectionID</th>\n",
       "      <th>Topic</th>\n",
       "      <th>Semester</th>\n",
       "      <th>Relation</th>\n",
       "      <th>raisedhands</th>\n",
       "      <th>VisITedResources</th>\n",
       "      <th>AnnouncementsView</th>\n",
       "      <th>Discussion</th>\n",
       "      <th>ParentAnsweringSurvey</th>\n",
       "      <th>ParentschoolSatisfaction</th>\n",
       "      <th>StudentAbsenceDays</th>\n",
       "    </tr>\n",
       "  </thead>\n",
       "  <tbody>\n",
       "    <tr>\n",
       "      <th>25</th>\n",
       "      <td>2</td>\n",
       "      <td>1</td>\n",
       "      <td>1</td>\n",
       "      <td>2</td>\n",
       "      <td>5</td>\n",
       "      <td>1</td>\n",
       "      <td>8</td>\n",
       "      <td>1</td>\n",
       "      <td>1</td>\n",
       "      <td>0.08</td>\n",
       "      <td>0.070707</td>\n",
       "      <td>0.306122</td>\n",
       "      <td>0.397959</td>\n",
       "      <td>1</td>\n",
       "      <td>2</td>\n",
       "      <td>1</td>\n",
       "    </tr>\n",
       "  </tbody>\n",
       "</table>\n",
       "</div>"
      ],
      "text/plain": [
       "    gender  NationalITy  PlaceofBirth  StageID  GradeID  SectionID  Topic  \\\n",
       "25       2            1             1        2        5          1      8   \n",
       "\n",
       "    Semester  Relation  raisedhands  VisITedResources  AnnouncementsView  \\\n",
       "25         1         1         0.08          0.070707           0.306122   \n",
       "\n",
       "    Discussion  ParentAnsweringSurvey  ParentschoolSatisfaction  \\\n",
       "25    0.397959                      1                         2   \n",
       "\n",
       "    StudentAbsenceDays  \n",
       "25                   1  "
      ]
     },
     "execution_count": 8,
     "metadata": {},
     "output_type": "execute_result"
    }
   ],
   "source": [
    "fetures.sample(1)"
   ]
  },
  {
   "cell_type": "code",
   "execution_count": 9,
   "metadata": {
    "colab": {
     "base_uri": "https://localhost:8080/"
    },
    "id": "IGivKwelSDhe",
    "outputId": "11c0e110-fca4-4199-af7d-84471dae5963"
   },
   "outputs": [
    {
     "name": "stderr",
     "output_type": "stream",
     "text": [
      "C:\\Users\\user\\AppData\\Local\\Temp\\ipykernel_4416\\379815796.py:2: FutureWarning: Downcasting behavior in `replace` is deprecated and will be removed in a future version. To retain the old behavior, explicitly call `result.infer_objects(copy=False)`. To opt-in to the future behavior, set `pd.set_option('future.no_silent_downcasting', True)`\n",
      "  target.replace(replace_class,inplace=True)\n"
     ]
    },
    {
     "data": {
      "text/plain": [
       "0      2\n",
       "1      2\n",
       "2      1\n",
       "3      1\n",
       "4      2\n",
       "      ..\n",
       "475    1\n",
       "476    2\n",
       "477    2\n",
       "478    1\n",
       "479    1\n",
       "Name: Class, Length: 480, dtype: int64"
      ]
     },
     "execution_count": 9,
     "metadata": {},
     "output_type": "execute_result"
    }
   ],
   "source": [
    "replace_class =  {'L': 1, 'M': 2 , 'H':3}\r\n",
    "target.replace(replace_class,inplace=True)\r\n",
    "target"
   ]
  },
  {
   "cell_type": "code",
   "execution_count": 10,
   "metadata": {
    "id": "tRNdY1AzOv35"
   },
   "outputs": [],
   "source": [
    "y = target\r\n",
    "X = fetures"
   ]
  },
  {
   "cell_type": "markdown",
   "metadata": {
    "id": "5FrqXw89qALa"
   },
   "source": [
    "# 4- Entrainement et evaluation de resulats"
   ]
  },
  {
   "cell_type": "code",
   "execution_count": 11,
   "metadata": {
    "id": "GEv3XYaJQSqv"
   },
   "outputs": [],
   "source": [
    "models = {}\r\n",
    "models['SVC'] = SVC()\r\n",
    "models['DecisionTreeClassifier'] = DecisionTreeClassifier()\r\n",
    "models['LogisticRegression'] = LogisticRegression(max_iter = 480)"
   ]
  },
  {
   "cell_type": "code",
   "execution_count": 12,
   "metadata": {
    "colab": {
     "base_uri": "https://localhost:8080/"
    },
    "id": "_R5p3C-UwhLn",
    "outputId": "083a6bec-e43d-45ac-e302-a0c36fbc9dce"
   },
   "outputs": [
    {
     "ename": "TypeError",
     "evalue": "KFold.__init__() got an unexpected keyword argument 'n_s10its'",
     "output_type": "error",
     "traceback": [
      "\u001b[1;31m---------------------------------------------------------------------------\u001b[0m",
      "\u001b[1;31mTypeError\u001b[0m                                 Traceback (most recent call last)",
      "Cell \u001b[1;32mIn[12], line 7\u001b[0m\n\u001b[0;32m      5\u001b[0m accuracy_results \u001b[38;5;241m=\u001b[39m {\u001b[38;5;124m\"\u001b[39m\u001b[38;5;124mSVC\u001b[39m\u001b[38;5;124m\"\u001b[39m : {\u001b[38;5;124m\"\u001b[39m\u001b[38;5;124mtrain\u001b[39m\u001b[38;5;124m\"\u001b[39m:\u001b[38;5;241m0\u001b[39m, \u001b[38;5;124m\"\u001b[39m\u001b[38;5;124mtest\u001b[39m\u001b[38;5;124m\"\u001b[39m:\u001b[38;5;241m0\u001b[39m},\u001b[38;5;124m\"\u001b[39m\u001b[38;5;124mDecisionTreeClassifier\u001b[39m\u001b[38;5;124m\"\u001b[39m : {\u001b[38;5;124m\"\u001b[39m\u001b[38;5;124mtrain\u001b[39m\u001b[38;5;124m\"\u001b[39m:\u001b[38;5;241m0\u001b[39m, \u001b[38;5;124m\"\u001b[39m\u001b[38;5;124mtest\u001b[39m\u001b[38;5;124m\"\u001b[39m:\u001b[38;5;241m0\u001b[39m},\u001b[38;5;124m\"\u001b[39m\u001b[38;5;124mLogisticRegression\u001b[39m\u001b[38;5;124m\"\u001b[39m : {\u001b[38;5;124m\"\u001b[39m\u001b[38;5;124mtrain\u001b[39m\u001b[38;5;124m\"\u001b[39m:\u001b[38;5;241m0\u001b[39m, \u001b[38;5;124m\"\u001b[39m\u001b[38;5;124mtest\u001b[39m\u001b[38;5;124m\"\u001b[39m:\u001b[38;5;241m0\u001b[39m}}\n\u001b[0;32m      6\u001b[0m f1score_results \u001b[38;5;241m=\u001b[39m {\u001b[38;5;124m\"\u001b[39m\u001b[38;5;124mSVC\u001b[39m\u001b[38;5;124m\"\u001b[39m : {\u001b[38;5;124m\"\u001b[39m\u001b[38;5;124mtrain\u001b[39m\u001b[38;5;124m\"\u001b[39m:\u001b[38;5;241m0\u001b[39m, \u001b[38;5;124m\"\u001b[39m\u001b[38;5;124mtest\u001b[39m\u001b[38;5;124m\"\u001b[39m:\u001b[38;5;241m0\u001b[39m},\u001b[38;5;124m\"\u001b[39m\u001b[38;5;124mDecisionTreeClassifier\u001b[39m\u001b[38;5;124m\"\u001b[39m : {\u001b[38;5;124m\"\u001b[39m\u001b[38;5;124mtrain\u001b[39m\u001b[38;5;124m\"\u001b[39m:\u001b[38;5;241m0\u001b[39m, \u001b[38;5;124m\"\u001b[39m\u001b[38;5;124mtest\u001b[39m\u001b[38;5;124m\"\u001b[39m:\u001b[38;5;241m0\u001b[39m},\u001b[38;5;124m\"\u001b[39m\u001b[38;5;124mLogisticRegression\u001b[39m\u001b[38;5;124m\"\u001b[39m : {\u001b[38;5;124m\"\u001b[39m\u001b[38;5;124mtrain\u001b[39m\u001b[38;5;124m\"\u001b[39m:\u001b[38;5;241m0\u001b[39m, \u001b[38;5;124m\"\u001b[39m\u001b[38;5;124mtest\u001b[39m\u001b[38;5;124m\"\u001b[39m:\u001b[38;5;241m0\u001b[39m}}\n\u001b[1;32m----> 7\u001b[0m kf \u001b[38;5;241m=\u001b[39m KFold(n_s10its\u001b[38;5;241m=\u001b[39m\u001b[38;5;241m10\u001b[39m)\n\u001b[0;32m      8\u001b[0m \u001b[38;5;28;01mfor\u001b[39;00m model \u001b[38;5;129;01min\u001b[39;00m models:\n\u001b[0;32m      9\u001b[0m   \u001b[38;5;28;01mfor\u001b[39;00m train_index, test_index \u001b[38;5;129;01min\u001b[39;00m kf\u001b[38;5;241m.\u001b[39msplit(X):\n",
      "\u001b[1;31mTypeError\u001b[0m: KFold.__init__() got an unexpected keyword argument 'n_s10its'"
     ]
    }
   ],
   "source": [
    "conf_matrix_list_of_arrays = {}\r\n",
    "conf_matrix_list_of_arrays[\"SVC\"] = []\r\n",
    "conf_matrix_list_of_arrays[\"DecisionTreeClassifier\"] = []\r\n",
    "conf_matrix_list_of_arrays[\"LogisticRegression\"] = []\r\n",
    "accuracy_results = {\"SVC\" : {\"train\":0, \"test\":0},\"DecisionTreeClassifier\" : {\"train\":0, \"test\":0},\"LogisticRegression\" : {\"train\":0, \"test\":0}}\r\n",
    "f1score_results = {\"SVC\" : {\"train\":0, \"test\":0},\"DecisionTreeClassifier\" : {\"train\":0, \"test\":0},\"LogisticRegression\" : {\"train\":0, \"test\":0}}\r\n",
    "kf = n_splits=10its=10)\r\n",
    "for model in models:\r\n",
    "  for train_index, test_index in kf.split(X):\r\n",
    "    X_train, X_test = X.iloc[train_index], X.iloc[test_index]\r\n",
    "    y_train, y_test = y.iloc[train_index], y.iloc[test_index]\r\n",
    "    \r\n",
    "    cloned_model = clone(models[model])\r\n",
    "    cloned_model.fit(X_train, y_train)\r\n",
    "    predictions_test = cloned_model.predict(X_test)\r\n",
    "    predictions_train = cloned_model.predict(X_train)\r\n",
    "    accuracy_results[model][\"train\"] += accuracy_score(y_train,predictions_train)\r\n",
    "        \r\n",
    "    \r\n",
    "    accuracy_results[model][\"test\"] += accuracy_score(y_test,predictions_test)\r\n",
    "    \r\n",
    "    \r\n",
    "    f1score_results[model][\"train\"] += f1_score(y_train,predictions_train,average='macro')\r\n",
    "    \r\n",
    "    \r\n",
    "    f1score_results[model][\"test\"] += f1_score(y_test,predictions_test,average='macro')\r\n",
    "\r\n",
    "    conf_matrix = confusion_matrix(y_test, predictions_test)\r\n",
    "    conf_matrix_list_of_arrays[model].append(conf_matrix)\r\n",
    "  accuracy_results[model][\"train\"] = accuracy_results[model][\"train\"] / 10\r\n",
    "  accuracy_results[model][\"test\"] = accuracy_results[model][\"test\"] / 10\r\n",
    "  f1score_results[model][\"train\"] = f1score_results[model][\"train\"] / 10\r\n",
    "  f1score_results[model][\"test\"] = f1score_results[model][\"test\"] / 10\r\n",
    "  conf_matrix_list_of_arrays[model] = np.mean(conf_matrix_list_of_arrays[model], axis=0)\r\n",
    "  print(model + \":\")\r\n",
    "  print(\"Accuracy:\" , 'train: ', accuracy_results[model][\"train\"], '| test: ', accuracy_results[model][\"test\"])\r\n",
    "  print(\"F1-score:\" , 'train: ', f1score_results[model][\"train\"], '| test: ', f1score_results[model][\"test\"])\r\n",
    "  print(\"Confusion Matrix:\\n\" , conf_matrix_list_of_arrays[model])\r\n",
    "  print(\"---------------------------------------------------------\")"
   ]
  },
  {
   "cell_type": "markdown",
   "metadata": {
    "id": "k1b10EewqL7q"
   },
   "source": [
    "# 5- SVM Hyperparameters Tuning "
   ]
  },
  {
   "cell_type": "code",
   "execution_count": 15,
   "metadata": {
    "colab": {
     "base_uri": "https://localhost:8080/"
    },
    "id": "nsb4l-t7tx8g",
    "outputId": "c48513f5-d760-48da-f467-0501f4506fc2"
   },
   "outputs": [
    {
     "name": "stdout",
     "output_type": "stream",
     "text": [
      "Training set has 384 samples.\n",
      "Testing set has 96 samples.\n"
     ]
    }
   ],
   "source": [
    "# Split the data into training and testing sets\r\n",
    "X_train, X_test, y_train, y_test = train_test_split(X,y,test_size = 0.2, \r\n",
    "                                                    random_state = 0)\r\n",
    "print(\"Training set has {} samples.\".format(X_train.shape[0]))\r\n",
    "print(\"Testing set has {} samples.\".format(X_test.shape[0]))"
   ]
  },
  {
   "cell_type": "code",
   "execution_count": 16,
   "metadata": {
    "id": "MryhMwimm8KO"
   },
   "outputs": [],
   "source": [
    "param_svc = {'C':[0.1, 1, 10, 100, 1000],'gamma':[1,0.1,0.01,0.001,0.0001], 'kernel':['linear','rbf']}\r\n",
    "grid_svc = GridSearchCV(SVC(),param_svc)\r\n",
    "grid_svc.fit(X_train,y_train)\r\n",
    "grid_svc_pred_test = grid_svc.predict(X_test)\r\n",
    "grid_svc_pred_train = grid_svc.predict(X_train)"
   ]
  },
  {
   "cell_type": "code",
   "execution_count": 17,
   "metadata": {
    "id": "GJB6TCJisX2g"
   },
   "outputs": [],
   "source": [
    "accuracy_results_train = accuracy_score(y_train,grid_svc_pred_train)\r\n",
    "accuracy_results_test = accuracy_score(y_test,grid_svc_pred_test)\r\n",
    "\r\n",
    "\r\n",
    "f1score_results_train = f1_score(y_train,grid_svc_pred_train,average='macro')\r\n",
    "f1score_results_test= f1_score(y_test,grid_svc_pred_test,average='macro')\r\n",
    "\r\n",
    "\r\n",
    "conf_matrix = confusion_matrix(y_test,grid_svc_pred_test)"
   ]
  },
  {
   "cell_type": "code",
   "execution_count": 18,
   "metadata": {
    "colab": {
     "base_uri": "https://localhost:8080/"
    },
    "id": "bPorCaLPN-Mg",
    "outputId": "2c887ad9-1e81-4c42-a412-a4463a9e0e81"
   },
   "outputs": [
    {
     "name": "stdout",
     "output_type": "stream",
     "text": [
      "SVC accuracy after grid search  train -> 0.7864583333333334\n",
      "SVC accuracy after grid search  test -> 0.71875\n",
      "SVC F1-score after grid search  train -> 0.7922821371319365\n",
      "SVC F1-score after grid search  test -> 0.7290603299164027\n",
      "SVC F1-score after grid search  \n",
      "confusion matrix ->\n",
      " [[22  1  0]\n",
      " [ 4 31 10]\n",
      " [ 0 12 16]]\n"
     ]
    }
   ],
   "source": [
    "print(\"SVC accuracy after grid search \", \"train ->\", accuracy_results_train)\r\n",
    "print(\"SVC accuracy after grid search \", \"test ->\", accuracy_results_test)\r\n",
    "print(\"SVC F1-score after grid search \", \"train ->\", f1score_results_train)\r\n",
    "print(\"SVC F1-score after grid search \", \"test ->\", f1score_results_test)\r\n",
    "print(\"SVC F1-score after grid search \", \"\\nconfusion matrix ->\\n\", conf_matrix)"
   ]
  },
  {
   "cell_type": "markdown",
   "metadata": {},
   "source": [
    "# Affichage des Matrices de confusion"
   ]
  },
  {
   "cell_type": "code",
   "execution_count": 19,
   "metadata": {},
   "outputs": [
    {
     "data": {
      "image/png": "[encoded data removed]",
      "text/plain": [
       "<Figure size 800x600 with 2 Axes>"
      ]
     },
     "metadata": {},
     "output_type": "display_data"
    }
   ],
   "source": [
    "import numpy as np\n",
    "from sklearn.metrics import ConfusionMatrixDisplay\n",
    "import matplotlib.pyplot as plt\n",
    "\n",
    "# Votre matrice de confusion (liste)\n",
    "confusion_matrix_svc = [[6.5, 5.7, 0.5],\n",
    "                        [1.9, 17.7, 1.5],\n",
    "                        [0, 11.8, 2.4]]\n",
    "\n",
    "# Convertir la matrice en tableau NumPy\n",
    "confusion_matrix_svc = np.array(confusion_matrix_svc)\n",
    "\n",
    "# Noms des classes (facultatif, remplacez par les vôtres si nécessaires)\n",
    "class_names = ['Classe 0 = L', 'Classe 1 = M', 'Classe 2 = H']\n",
    "\n",
    "# Affichage de la matrice de confusion\n",
    "plt.figure(figsize=(8, 6))\n",
    "ConfusionMatrixDisplay(confusion_matrix=confusion_matrix_svc, display_labels=class_names).plot(cmap='Blues', ax=plt.gca())\n",
    "plt.title('Matrice de confusion : SVC')\n",
    "plt.show()\n",
    "\n"
   ]
  },
  {
   "cell_type": "code",
   "execution_count": 20,
   "metadata": {},
   "outputs": [
    {
     "data": {
      "image/png": "[encoded data removed]",
      "text/plain": [
       "<Figure size 800x600 with 2 Axes>"
      ]
     },
     "metadata": {},
     "output_type": "display_data"
    }
   ],
   "source": [
    "import numpy as np\n",
    "from sklearn.metrics import ConfusionMatrixDisplay\n",
    "import matplotlib.pyplot as plt\n",
    "\n",
    "# Votre matrice de confusion (liste)\n",
    "confusion_matrix_svc = [[9.7,  2.7,  0.3],\n",
    "                        [3.3, 11.8,  6.],\n",
    "                        [0.1,  5.2,  8.9]]\n",
    "\n",
    "# Convertir la matrice en tableau NumPy\n",
    "confusion_matrix_svc = np.array(confusion_matrix_svc)\n",
    "\n",
    "# Noms des classes (facultatif, remplacez par les vôtres si nécessaires)\n",
    "class_names = ['Classe 0 = L', 'Classe 1 = M', 'Classe 2 = H']\n",
    "\n",
    "# Affichage de la matrice de confusion\n",
    "plt.figure(figsize=(8, 6))\n",
    "ConfusionMatrixDisplay(confusion_matrix=confusion_matrix_svc, display_labels=class_names).plot(cmap='Reds', ax=plt.gca())\n",
    "plt.title('Matrice de confusion : Arbre de décisions')\n",
    "plt.show()\n",
    "\n"
   ]
  },
  {
   "cell_type": "code",
   "execution_count": 21,
   "metadata": {},
   "outputs": [
    {
     "data": {
      "image/png": "[encoded data removed]",
      "text/plain": [
       "<Figure size 800x600 with 2 Axes>"
      ]
     },
     "metadata": {},
     "output_type": "display_data"
    }
   ],
   "source": [
    "import numpy as np\n",
    "from sklearn.metrics import ConfusionMatrixDisplay\n",
    "import matplotlib.pyplot as plt\n",
    "\n",
    "# Votre matrice de confusion (liste)\n",
    "confusion_matrix_svc = [[10.7,  2,   0.],\n",
    "                        [2.5, 14.6,  4.],\n",
    "                        [0,   3.8, 10.4]]\n",
    "\n",
    "# Convertir la matrice en tableau NumPy\n",
    "confusion_matrix_svc = np.array(confusion_matrix_svc)\n",
    "\n",
    "# Noms des classes (facultatif, remplacez par les vôtres si nécessaires)\n",
    "class_names = ['Classe 0 = L', 'Classe 1 = M', 'Classe 2 = H']\n",
    "\n",
    "# Affichage de la matrice de confusion\n",
    "plt.figure(figsize=(8, 6))\n",
    "ConfusionMatrixDisplay(confusion_matrix=confusion_matrix_svc, display_labels=class_names).plot(cmap='Greens', ax=plt.gca())\n",
    "plt.title('Matrice de confusion : Régression logistique')\n",
    "plt.show()\n",
    "\n"
   ]
  },
  {
   "cell_type": "code",
   "execution_count": 22,
   "metadata": {},
   "outputs": [
    {
     "data": {
      "image/png": "[encoded data removed]",
      "text/plain": [
       "<Figure size 800x600 with 2 Axes>"
      ]
     },
     "metadata": {},
     "output_type": "display_data"
    }
   ],
   "source": [
    "import numpy as np\n",
    "from sklearn.metrics import ConfusionMatrixDisplay\n",
    "import matplotlib.pyplot as plt\n",
    "\n",
    "# Votre matrice de confusion (liste)\n",
    "confusion_matrix_svc = [[22,  1,  0],\n",
    "                        [4, 31, 10],\n",
    "                        [0, 12, 16]]\n",
    "\n",
    "# Convertir la matrice en tableau NumPy\n",
    "confusion_matrix_svc = np.array(confusion_matrix_svc)\n",
    "\n",
    "# Noms des classes (facultatif, remplacez par les vôtres si nécessaires)\n",
    "class_names = ['Classe 0 = L', 'Classe 1 = M', 'Classe 2 = H']\n",
    "\n",
    "# Affichage de la matrice de confusion\n",
    "plt.figure(figsize=(8, 6))\n",
    "ConfusionMatrixDisplay(confusion_matrix=confusion_matrix_svc, display_labels=class_names).plot(cmap='Purples', ax=plt.gca())\n",
    "plt.title('Matrice de confusion : SVM')\n",
    "plt.show()\n",
    "\n"
   ]
  },
  {
   "cell_type": "markdown",
   "metadata": {},
   "source": [
    "La matrice de confusion fournie pour le modèle SVC (Support Vector Classifier) est une matrice 3x3, indiquant les résultats de la classification sur un problème à trois classes. Voici comment interpréter cette matrice :\n",
    "\n",
    "Prédit : Classe 0\tPrédit : Classe 1\tPrédit : Classe 2\n",
    "Réel : Classe L\t22\t1\t0\n",
    "Réel : Classe M\t4\t31\t10\n",
    "Réel : Classe H\t0\t12\t16"
   ]
  },
  {
   "cell_type": "markdown",
   "metadata": {},
   "source": [
    "***Interprétation*** :\n",
    "\n",
    "***Classe 0*** :\n",
    "\n",
    "22 instances de la classe 0 ont été correctement classées comme classe 0 (vrais positifs).\n",
    "1 instance de la classe 0 a été incorrectement classée comme classe 1.\n",
    "0 instances de la classe 0 ont été incorrectement classées comme classe 2.\n",
    "\n",
    "***Classe 1*** :\n",
    "\n",
    "4 instances de la classe 1 ont été incorrectement classées comme classe 0.\n",
    "31 instances de la classe 1 ont été correctement classées comme classe 1 (vrais positifs).\n",
    "10 instances de la classe 1 ont été incorrectement classées comme classe 2.\n",
    "\n",
    "***Classe 2*** :\n",
    "\n",
    "0 instances de la classe 2 ont été incorrectement classées comme classe 0.\n",
    "12 instances de la classe 2 ont été incorrectement classées comme classe 1.\n",
    "16 instances de la classe 2 ont été correctement classées comme classe 2 (vrais positifs).\n",
    "Analyse Globale :\n",
    "La classe 0 a une très bonne précision avec la plupart des instances classées correctement.\n",
    "La classe 1 montre une bonne performance, bien que certaines instances soient classées incorrectement comme classe 2.\n",
    "La classe 2 a une performance modérée, avec une confusion notable avec la classe 1.\n"
   ]
  },
  {
   "cell_type": "code",
   "execution_count": null,
   "metadata": {},
   "outputs": [],
   "source": []
  }
 ],
 "metadata": {
  "colab": {
   "collapsed_sections": [],
   "name": "Student Performance Classification.ipynb",
   "provenance": [],
   "toc_visible": true
  },
  "kernelspec": {
   "display_name": "Python [conda env:base] *",
   "language": "python",
   "name": "conda-base-py"
  },
  "language_info": {
   "codemirror_mode": {
    "name": "ipython",
    "version": 3
   },
   "file_extension": ".py",
   "mimetype": "text/x-python",
   "name": "python",
   "nbconvert_exporter": "python",
   "pygments_lexer": "ipython3",
   "version": "3.12.7"
  }
 },
 "nbformat": 4,
 "nbformat_minor": 4
}
